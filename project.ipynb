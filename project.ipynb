{
  "cells": [
    {
      "cell_type": "markdown",
      "metadata": {
        "id": "ShCJ6PpTZUMO"
      },
      "source": [
        "**Ilai Azulay 318249828**\n",
        "\n",
        "**Benjamin Lellouche 328944657**"
      ]
    },
    {
      "cell_type": "markdown",
      "metadata": {
        "id": "ogjuObNQZczA"
      },
      "source": [
        "**Description**\n",
        "\n",
        "The Give Me Some Credit dataset is a financial dataset that contains information about borrowers and their repayment behaviors. The dataset is often used for credit risk modeling, which is the process of analyzing a borrower's creditworthiness to determine the likelihood of defaulting on a loan.\n",
        "\n",
        "The dataset contains the following features:\n",
        "\n",
        "**SeriousDlqin2yrs**: This is the target variable, which is a binary variable indicating whether the borrower had a serious delinquency in the past 2 years. A serious delinquency is defined as a payment that is 90 days or more overdue.\n",
        "\n",
        "**RevolvingUtilizationOfUnsecuredLines**: This is the total balance on credit cards and personal lines of credit, divided by the sum of credit limits.\n",
        "\n",
        "**age**: This is the age of the borrower in years.\n",
        "\n",
        "**NumberOfTime30-59DaysPastDueNotWorse**: This is the number of times the borrower was 30-59 days past due on a payment, but not worse in the last 2 years.\n",
        "\n",
        "**DebtRatio**: This is the monthly debt payments, excluding mortgage and real estate taxes, divided by the borrower's gross monthly income.\n",
        "\n",
        "**MonthlyIncome**: This is the monthly income of the borrower.\n",
        "\n",
        "**NumberOfOpenCreditLinesAndLoans**: This is the number of open credit cards and loans the borrower has.\n",
        "\n",
        "**NumberOfTimes90DaysLate**: This is the number of times the borrower was 90 days or more past due on a payment in the last 2 years.\n",
        "\n",
        "**NumberRealEstateLoansOrLines**: This is the number of mortgage and real estate loans the borrower has.\n",
        "\n",
        "**NumberOfTime60-89DaysPastDueNotWorse**: This is the number of times the borrower was 60-89 days past due on a payment, but not worse in the last 2 years.\n",
        "\n",
        "**NumberOfDependents**: This is the number of dependents the borrower has.\n",
        "\n",
        "These features provide information about the borrower's credit history, current financial situation, and demographic information."
      ]
    },
    {
      "cell_type": "markdown",
      "metadata": {
        "id": "9A-kdeMmNhwW"
      },
      "source": []
    },
    {
      "cell_type": "markdown",
      "metadata": {
        "id": "ry_NC-RLNZ2r"
      },
      "source": [
        "**Upload the raw csv file**"
      ]
    },
    {
      "cell_type": "code",
      "execution_count": 63,
      "metadata": {
        "colab": {
          "base_uri": "https://localhost:8080/",
          "height": 663
        },
        "id": "yD2m3OAOa7Pk",
        "outputId": "0f66aa86-2f09-4989-f977-1be812666f7b"
      },
      "outputs": [
        {
          "output_type": "stream",
          "name": "stdout",
          "text": [
            "Looking in indexes: https://pypi.org/simple, https://us-python.pkg.dev/colab-wheels/public/simple/\n",
            "Requirement already satisfied: pandas in /usr/local/lib/python3.8/dist-packages (1.3.5)\n",
            "Requirement already satisfied: numpy>=1.17.3 in /usr/local/lib/python3.8/dist-packages (from pandas) (1.22.4)\n",
            "Requirement already satisfied: python-dateutil>=2.7.3 in /usr/local/lib/python3.8/dist-packages (from pandas) (2.8.2)\n",
            "Requirement already satisfied: pytz>=2017.3 in /usr/local/lib/python3.8/dist-packages (from pandas) (2022.7.1)\n",
            "Requirement already satisfied: six>=1.5 in /usr/local/lib/python3.8/dist-packages (from python-dateutil>=2.7.3->pandas) (1.15.0)\n",
            "Looking in indexes: https://pypi.org/simple, https://us-python.pkg.dev/colab-wheels/public/simple/\n",
            "Requirement already satisfied: matplotlib in /usr/local/lib/python3.8/dist-packages (3.5.3)\n",
            "Requirement already satisfied: pyparsing>=2.2.1 in /usr/local/lib/python3.8/dist-packages (from matplotlib) (3.0.9)\n",
            "Requirement already satisfied: cycler>=0.10 in /usr/local/lib/python3.8/dist-packages (from matplotlib) (0.11.0)\n",
            "Requirement already satisfied: numpy>=1.17 in /usr/local/lib/python3.8/dist-packages (from matplotlib) (1.22.4)\n",
            "Requirement already satisfied: pillow>=6.2.0 in /usr/local/lib/python3.8/dist-packages (from matplotlib) (8.4.0)\n",
            "Requirement already satisfied: fonttools>=4.22.0 in /usr/local/lib/python3.8/dist-packages (from matplotlib) (4.38.0)\n",
            "Requirement already satisfied: python-dateutil>=2.7 in /usr/local/lib/python3.8/dist-packages (from matplotlib) (2.8.2)\n",
            "Requirement already satisfied: kiwisolver>=1.0.1 in /usr/local/lib/python3.8/dist-packages (from matplotlib) (1.4.4)\n",
            "Requirement already satisfied: packaging>=20.0 in /usr/local/lib/python3.8/dist-packages (from matplotlib) (23.0)\n",
            "Requirement already satisfied: six>=1.5 in /usr/local/lib/python3.8/dist-packages (from python-dateutil>=2.7->matplotlib) (1.15.0)\n",
            "Looking in indexes: https://pypi.org/simple, https://us-python.pkg.dev/colab-wheels/public/simple/\n",
            "Requirement already satisfied: numpy in /usr/local/lib/python3.8/dist-packages (1.22.4)\n",
            "Looking in indexes: https://pypi.org/simple, https://us-python.pkg.dev/colab-wheels/public/simple/\n",
            "Requirement already satisfied: seaborn in /usr/local/lib/python3.8/dist-packages (0.11.2)\n",
            "Requirement already satisfied: matplotlib>=2.2 in /usr/local/lib/python3.8/dist-packages (from seaborn) (3.5.3)\n",
            "Requirement already satisfied: numpy>=1.15 in /usr/local/lib/python3.8/dist-packages (from seaborn) (1.22.4)\n",
            "Requirement already satisfied: pandas>=0.23 in /usr/local/lib/python3.8/dist-packages (from seaborn) (1.3.5)\n",
            "Requirement already satisfied: scipy>=1.0 in /usr/local/lib/python3.8/dist-packages (from seaborn) (1.7.3)\n",
            "Requirement already satisfied: cycler>=0.10 in /usr/local/lib/python3.8/dist-packages (from matplotlib>=2.2->seaborn) (0.11.0)\n",
            "Requirement already satisfied: fonttools>=4.22.0 in /usr/local/lib/python3.8/dist-packages (from matplotlib>=2.2->seaborn) (4.38.0)\n",
            "Requirement already satisfied: pillow>=6.2.0 in /usr/local/lib/python3.8/dist-packages (from matplotlib>=2.2->seaborn) (8.4.0)\n",
            "Requirement already satisfied: packaging>=20.0 in /usr/local/lib/python3.8/dist-packages (from matplotlib>=2.2->seaborn) (23.0)\n",
            "Requirement already satisfied: pyparsing>=2.2.1 in /usr/local/lib/python3.8/dist-packages (from matplotlib>=2.2->seaborn) (3.0.9)\n",
            "Requirement already satisfied: kiwisolver>=1.0.1 in /usr/local/lib/python3.8/dist-packages (from matplotlib>=2.2->seaborn) (1.4.4)\n",
            "Requirement already satisfied: python-dateutil>=2.7 in /usr/local/lib/python3.8/dist-packages (from matplotlib>=2.2->seaborn) (2.8.2)\n",
            "Requirement already satisfied: pytz>=2017.3 in /usr/local/lib/python3.8/dist-packages (from pandas>=0.23->seaborn) (2022.7.1)\n",
            "Requirement already satisfied: six>=1.5 in /usr/local/lib/python3.8/dist-packages (from python-dateutil>=2.7->matplotlib>=2.2->seaborn) (1.15.0)\n"
          ]
        },
        {
          "output_type": "display_data",
          "data": {
            "text/plain": [
              "<IPython.core.display.HTML object>"
            ],
            "text/html": [
              "\n",
              "     <input type=\"file\" id=\"files-eb4f89a8-e91c-4703-949a-8862609f073e\" name=\"files[]\" multiple disabled\n",
              "        style=\"border:none\" />\n",
              "     <output id=\"result-eb4f89a8-e91c-4703-949a-8862609f073e\">\n",
              "      Upload widget is only available when the cell has been executed in the\n",
              "      current browser session. Please rerun this cell to enable.\n",
              "      </output>\n",
              "      <script>// Copyright 2017 Google LLC\n",
              "//\n",
              "// Licensed under the Apache License, Version 2.0 (the \"License\");\n",
              "// you may not use this file except in compliance with the License.\n",
              "// You may obtain a copy of the License at\n",
              "//\n",
              "//      http://www.apache.org/licenses/LICENSE-2.0\n",
              "//\n",
              "// Unless required by applicable law or agreed to in writing, software\n",
              "// distributed under the License is distributed on an \"AS IS\" BASIS,\n",
              "// WITHOUT WARRANTIES OR CONDITIONS OF ANY KIND, either express or implied.\n",
              "// See the License for the specific language governing permissions and\n",
              "// limitations under the License.\n",
              "\n",
              "/**\n",
              " * @fileoverview Helpers for google.colab Python module.\n",
              " */\n",
              "(function(scope) {\n",
              "function span(text, styleAttributes = {}) {\n",
              "  const element = document.createElement('span');\n",
              "  element.textContent = text;\n",
              "  for (const key of Object.keys(styleAttributes)) {\n",
              "    element.style[key] = styleAttributes[key];\n",
              "  }\n",
              "  return element;\n",
              "}\n",
              "\n",
              "// Max number of bytes which will be uploaded at a time.\n",
              "const MAX_PAYLOAD_SIZE = 100 * 1024;\n",
              "\n",
              "function _uploadFiles(inputId, outputId) {\n",
              "  const steps = uploadFilesStep(inputId, outputId);\n",
              "  const outputElement = document.getElementById(outputId);\n",
              "  // Cache steps on the outputElement to make it available for the next call\n",
              "  // to uploadFilesContinue from Python.\n",
              "  outputElement.steps = steps;\n",
              "\n",
              "  return _uploadFilesContinue(outputId);\n",
              "}\n",
              "\n",
              "// This is roughly an async generator (not supported in the browser yet),\n",
              "// where there are multiple asynchronous steps and the Python side is going\n",
              "// to poll for completion of each step.\n",
              "// This uses a Promise to block the python side on completion of each step,\n",
              "// then passes the result of the previous step as the input to the next step.\n",
              "function _uploadFilesContinue(outputId) {\n",
              "  const outputElement = document.getElementById(outputId);\n",
              "  const steps = outputElement.steps;\n",
              "\n",
              "  const next = steps.next(outputElement.lastPromiseValue);\n",
              "  return Promise.resolve(next.value.promise).then((value) => {\n",
              "    // Cache the last promise value to make it available to the next\n",
              "    // step of the generator.\n",
              "    outputElement.lastPromiseValue = value;\n",
              "    return next.value.response;\n",
              "  });\n",
              "}\n",
              "\n",
              "/**\n",
              " * Generator function which is called between each async step of the upload\n",
              " * process.\n",
              " * @param {string} inputId Element ID of the input file picker element.\n",
              " * @param {string} outputId Element ID of the output display.\n",
              " * @return {!Iterable<!Object>} Iterable of next steps.\n",
              " */\n",
              "function* uploadFilesStep(inputId, outputId) {\n",
              "  const inputElement = document.getElementById(inputId);\n",
              "  inputElement.disabled = false;\n",
              "\n",
              "  const outputElement = document.getElementById(outputId);\n",
              "  outputElement.innerHTML = '';\n",
              "\n",
              "  const pickedPromise = new Promise((resolve) => {\n",
              "    inputElement.addEventListener('change', (e) => {\n",
              "      resolve(e.target.files);\n",
              "    });\n",
              "  });\n",
              "\n",
              "  const cancel = document.createElement('button');\n",
              "  inputElement.parentElement.appendChild(cancel);\n",
              "  cancel.textContent = 'Cancel upload';\n",
              "  const cancelPromise = new Promise((resolve) => {\n",
              "    cancel.onclick = () => {\n",
              "      resolve(null);\n",
              "    };\n",
              "  });\n",
              "\n",
              "  // Wait for the user to pick the files.\n",
              "  const files = yield {\n",
              "    promise: Promise.race([pickedPromise, cancelPromise]),\n",
              "    response: {\n",
              "      action: 'starting',\n",
              "    }\n",
              "  };\n",
              "\n",
              "  cancel.remove();\n",
              "\n",
              "  // Disable the input element since further picks are not allowed.\n",
              "  inputElement.disabled = true;\n",
              "\n",
              "  if (!files) {\n",
              "    return {\n",
              "      response: {\n",
              "        action: 'complete',\n",
              "      }\n",
              "    };\n",
              "  }\n",
              "\n",
              "  for (const file of files) {\n",
              "    const li = document.createElement('li');\n",
              "    li.append(span(file.name, {fontWeight: 'bold'}));\n",
              "    li.append(span(\n",
              "        `(${file.type || 'n/a'}) - ${file.size} bytes, ` +\n",
              "        `last modified: ${\n",
              "            file.lastModifiedDate ? file.lastModifiedDate.toLocaleDateString() :\n",
              "                                    'n/a'} - `));\n",
              "    const percent = span('0% done');\n",
              "    li.appendChild(percent);\n",
              "\n",
              "    outputElement.appendChild(li);\n",
              "\n",
              "    const fileDataPromise = new Promise((resolve) => {\n",
              "      const reader = new FileReader();\n",
              "      reader.onload = (e) => {\n",
              "        resolve(e.target.result);\n",
              "      };\n",
              "      reader.readAsArrayBuffer(file);\n",
              "    });\n",
              "    // Wait for the data to be ready.\n",
              "    let fileData = yield {\n",
              "      promise: fileDataPromise,\n",
              "      response: {\n",
              "        action: 'continue',\n",
              "      }\n",
              "    };\n",
              "\n",
              "    // Use a chunked sending to avoid message size limits. See b/62115660.\n",
              "    let position = 0;\n",
              "    do {\n",
              "      const length = Math.min(fileData.byteLength - position, MAX_PAYLOAD_SIZE);\n",
              "      const chunk = new Uint8Array(fileData, position, length);\n",
              "      position += length;\n",
              "\n",
              "      const base64 = btoa(String.fromCharCode.apply(null, chunk));\n",
              "      yield {\n",
              "        response: {\n",
              "          action: 'append',\n",
              "          file: file.name,\n",
              "          data: base64,\n",
              "        },\n",
              "      };\n",
              "\n",
              "      let percentDone = fileData.byteLength === 0 ?\n",
              "          100 :\n",
              "          Math.round((position / fileData.byteLength) * 100);\n",
              "      percent.textContent = `${percentDone}% done`;\n",
              "\n",
              "    } while (position < fileData.byteLength);\n",
              "  }\n",
              "\n",
              "  // All done.\n",
              "  yield {\n",
              "    response: {\n",
              "      action: 'complete',\n",
              "    }\n",
              "  };\n",
              "}\n",
              "\n",
              "scope.google = scope.google || {};\n",
              "scope.google.colab = scope.google.colab || {};\n",
              "scope.google.colab._files = {\n",
              "  _uploadFiles,\n",
              "  _uploadFilesContinue,\n",
              "};\n",
              "})(self);\n",
              "</script> "
            ]
          },
          "metadata": {}
        },
        {
          "output_type": "stream",
          "name": "stdout",
          "text": [
            "Saving raw_dataset.csv to raw_dataset.csv\n"
          ]
        }
      ],
      "source": [
        "!pip install pandas\n",
        "!pip install matplotlib\n",
        "!pip install numpy\n",
        "!pip install seaborn\n",
        "\n",
        "import pandas as pd\n",
        "import numpy as np\n",
        "import matplotlib.pyplot as plt\n",
        "import seaborn as sns\n",
        "from sklearn.impute import KNNImputer\n",
        "\n",
        "# Load the dataset\n",
        "from google.colab import files\n",
        "uploaded = files.upload()"
      ]
    },
    {
      "cell_type": "code",
      "execution_count": 64,
      "metadata": {
        "id": "VtRVlG0TZRbi"
      },
      "outputs": [],
      "source": [
        "import io\n",
        "df = pd.read_csv(io.BytesIO(uploaded['raw_dataset.csv']))\n",
        "# Dataset is now stored in a Pandas Dataframe"
      ]
    },
    {
      "cell_type": "markdown",
      "metadata": {
        "id": "eil6i7cTnHwE"
      },
      "source": [
        "**Pre Analysis**"
      ]
    },
    {
      "cell_type": "code",
      "execution_count": 49,
      "metadata": {
        "colab": {
          "base_uri": "https://localhost:8080/",
          "height": 1000
        },
        "id": "fl2Rv8-pksuh",
        "outputId": "c5b9a830-6054-4691-e5df-1b6894291c21"
      },
      "outputs": [
        {
          "output_type": "stream",
          "name": "stdout",
          "text": [
            "Number of rows: 150000, Number of columns: 12\n",
            "Unnamed: 0                                  0\n",
            "SeriousDlqin2yrs                            0\n",
            "RevolvingUtilizationOfUnsecuredLines        0\n",
            "age                                         0\n",
            "NumberOfTime30-59DaysPastDueNotWorse        0\n",
            "DebtRatio                                   0\n",
            "MonthlyIncome                           29731\n",
            "NumberOfOpenCreditLinesAndLoans             0\n",
            "NumberOfTimes90DaysLate                     0\n",
            "NumberRealEstateLoansOrLines                0\n",
            "NumberOfTime60-89DaysPastDueNotWorse        0\n",
            "NumberOfDependents                       3924\n",
            "dtype: int64\n"
          ]
        },
        {
          "output_type": "display_data",
          "data": {
            "text/plain": [
              "<Figure size 432x288 with 1 Axes>"
            ],
            "image/png": "[encoded data removed]"
          },
          "metadata": {
            "needs_background": "light"
          }
        },
        {
          "output_type": "display_data",
          "data": {
            "text/plain": [
              "<Figure size 432x288 with 1 Axes>"
            ],
            "image/png": "[encoded data removed]"
          },
          "metadata": {
            "needs_background": "light"
          }
        },
        {
          "output_type": "display_data",
          "data": {
            "text/plain": [
              "<Figure size 432x288 with 1 Axes>"
            ],
            "image/png": "[encoded data removed]"
          },
          "metadata": {
            "needs_background": "light"
          }
        }
      ],
      "source": [
        "# Check the dimensions of the dataset\n",
        "print(f\"Number of rows: {df.shape[0]}, Number of columns: {df.shape[1]}\")\n",
        "\n",
        "# Check for missing values\n",
        "print(df.isna().sum())\n",
        "\n",
        "# Check the distribution of the target variable\n",
        "sns.countplot(x='SeriousDlqin2yrs', data=df)\n",
        "plt.show()\n",
        "\n",
        "# Check for outliers in Age and MonthlyIncome\n",
        "sns.boxplot(x='age', data=df)\n",
        "plt.show()\n",
        "sns.boxplot(x='MonthlyIncome', data=df)\n",
        "plt.show()"
      ]
    },
    {
      "cell_type": "markdown",
      "metadata": {
        "id": "C88-nsYglGlg"
      },
      "source": [
        "we can see there are less the 20,000 people with a serious delinquency in the past 2 years\n",
        "\n"
      ]
    },
    {
      "cell_type": "markdown",
      "metadata": {
        "id": "h_HPbav2av3z"
      },
      "source": [
        "**cleansing, fixing, prepping the dataset**"
      ]
    },
    {
      "cell_type": "markdown",
      "metadata": {
        "id": "Xmlnu4zfdhIH"
      },
      "source": [
        "Handle missing values"
      ]
    },
    {
      "cell_type": "markdown",
      "source": [
        "Replaces the missing values with estimates based on the values of the k nearest neighbors for each missing value."
      ],
      "metadata": {
        "id": "nihNTALWCJYP"
      }
    },
    {
      "cell_type": "code",
      "execution_count": 50,
      "metadata": {
        "colab": {
          "base_uri": "https://localhost:8080/"
        },
        "id": "zJQUKlsEnDzB",
        "outputId": "266f47f3-e269-4c72-9373-1ad9466be233"
      },
      "outputs": [
        {
          "output_type": "stream",
          "name": "stdout",
          "text": [
            "Unnamed: 0                                  0\n",
            "SeriousDlqin2yrs                            0\n",
            "RevolvingUtilizationOfUnsecuredLines        0\n",
            "age                                         0\n",
            "NumberOfTime30-59DaysPastDueNotWorse        0\n",
            "DebtRatio                                   0\n",
            "MonthlyIncome                           29731\n",
            "NumberOfOpenCreditLinesAndLoans             0\n",
            "NumberOfTimes90DaysLate                     0\n",
            "NumberRealEstateLoansOrLines                0\n",
            "NumberOfTime60-89DaysPastDueNotWorse        0\n",
            "NumberOfDependents                       3924\n",
            "dtype: int64\n"
          ]
        }
      ],
      "source": [
        "# Check for missing values\n",
        "print(df.isnull().sum())\n",
        "\n",
        "# Drop rows with missing values\n",
        "df = df.dropna()\n",
        "\n",
        "# Fill in missing values using KNN imputation\n",
        "imputer = KNNImputer(n_neighbors=5)\n",
        "df_filled = imputer.fit_transform(df)"
      ]
    },
    {
      "cell_type": "markdown",
      "metadata": {
        "id": "EzpdcXlgdvgk"
      },
      "source": [
        "Remove duplicates"
      ]
    },
    {
      "cell_type": "code",
      "execution_count": 51,
      "metadata": {
        "colab": {
          "base_uri": "https://localhost:8080/"
        },
        "id": "Yha8d8CbdxTu",
        "outputId": "6029aabb-dd27-41b2-9215-01e43050d827"
      },
      "outputs": [
        {
          "output_type": "stream",
          "name": "stdout",
          "text": [
            "0\n"
          ]
        }
      ],
      "source": [
        "# Check for duplicates\n",
        "print(df.duplicated().sum())\n",
        "\n",
        "# Remove duplicates\n",
        "df = df.drop_duplicates()"
      ]
    },
    {
      "cell_type": "markdown",
      "metadata": {
        "id": "PFZ3cFL9d1Yf"
      },
      "source": [
        "Feature scaling"
      ]
    },
    {
      "cell_type": "code",
      "execution_count": 52,
      "metadata": {
        "id": "fl5gbxokd5gL"
      },
      "outputs": [],
      "source": [
        "from sklearn.preprocessing import StandardScaler\n",
        "\n",
        "# Scale the features\n",
        "scaler = StandardScaler()\n",
        "X = scaler.fit_transform(df.drop('SeriousDlqin2yrs', axis=1))\n",
        "y = df['SeriousDlqin2yrs']"
      ]
    },
    {
      "cell_type": "markdown",
      "metadata": {
        "id": "-K0QqgvyeBF8"
      },
      "source": [
        "Top 5 features that are most strongly related to the target variable"
      ]
    },
    {
      "cell_type": "code",
      "execution_count": 53,
      "metadata": {
        "colab": {
          "base_uri": "https://localhost:8080/"
        },
        "id": "s0y8MbXJeBtw",
        "outputId": "3159c74e-0387-4b3f-efa8-c10a95ee7776"
      },
      "outputs": [
        {
          "output_type": "stream",
          "name": "stdout",
          "text": [
            "Index(['age', 'NumberOfTime30-59DaysPastDueNotWorse',\n",
            "       'NumberOfTimes90DaysLate', 'NumberOfTime60-89DaysPastDueNotWorse',\n",
            "       'NumberOfDependents'],\n",
            "      dtype='object')\n"
          ]
        }
      ],
      "source": [
        "from sklearn.feature_selection import SelectKBest, f_classif\n",
        "\n",
        "# Select the k best features using ANOVA F-test\n",
        "selector = SelectKBest(score_func=f_classif, k=5)\n",
        "X_new = selector.fit_transform(X, y)\n",
        "\n",
        "# Print the selected feature names\n",
        "selected_features = selector.get_support(indices=True)\n",
        "feature_names = df.drop('SeriousDlqin2yrs', axis=1).columns\n",
        "selected_names = feature_names[selected_features]\n",
        "print(selected_names)"
      ]
    },
    {
      "cell_type": "markdown",
      "source": [
        "**Distribution of interesting features and what can be learned about them**"
      ],
      "metadata": {
        "id": "0fxt7DN9sTsp"
      }
    },
    {
      "cell_type": "code",
      "source": [
        "import pandas as pd\n",
        "import matplotlib.pyplot as plt\n",
        "\n",
        "# Load the data set\n",
        "data = df\n",
        "\n",
        "# Define the interesting features\n",
        "features = ['RevolvingUtilizationOfUnsecuredLines', 'age', 'MonthlyIncome', 'DebtRatio']\n",
        "\n",
        "# Visualize the distribution of each feature\n",
        "for feature in features:\n",
        "    fig, ax = plt.subplots()\n",
        "    if feature == 'RevolvingUtilizationOfUnsecuredLines':\n",
        "        ax.hist(data[feature], bins=[0, 0.1, 0.2, 0.3, 0.4, 0.5, 1], log=True)\n",
        "        ax.set_xlabel('Revolving Utilization of Unsecured Lines')\n",
        "        ax.set_ylabel('Count')\n",
        "    elif feature == 'MonthlyIncome':\n",
        "        ax.hist(data[feature], bins=[0, 1000, 2000, 5000, 10000, 20000, 50000, 100000, 300000], log=True)\n",
        "        ax.set_xlabel('Monthly Income')\n",
        "        ax.set_ylabel('Count')\n",
        "    elif feature == 'DebtRatio':\n",
        "        ax.hist(data[feature], bins=[0, 0.01, 0.1, 1, 10, 100, 1000, 10000, 100000], log=True)\n",
        "        ax.set_xlabel('Debt Ratio')\n",
        "        ax.set_ylabel('Count')\n",
        "    else:\n",
        "        ax.hist(data[feature], bins=50)\n",
        "        ax.set_xlabel('Age')\n",
        "        ax.set_ylabel('Count')\n",
        "    ax.set_title(feature)\n",
        "    plt.show()\n"
      ],
      "metadata": {
        "colab": {
          "base_uri": "https://localhost:8080/",
          "height": 1000
        },
        "id": "hbWucpLvsdGo",
        "outputId": "b7503403-4c05-401b-c17b-ae9da50199a6"
      },
      "execution_count": 54,
      "outputs": [
        {
          "output_type": "display_data",
          "data": {
            "text/plain": [
              "<Figure size 432x288 with 1 Axes>"
            ],
            "image/png": "[encoded data removed]"
          },
          "metadata": {
            "needs_background": "light"
          }
        },
        {
          "output_type": "display_data",
          "data": {
            "text/plain": [
              "<Figure size 432x288 with 1 Axes>"
            ],
            "image/png": "[encoded data removed]"
          },
          "metadata": {
            "needs_background": "light"
          }
        },
        {
          "output_type": "display_data",
          "data": {
            "text/plain": [
              "<Figure size 432x288 with 1 Axes>"
            ],
            "image/png": "[encoded data removed]"
          },
          "metadata": {
            "needs_background": "light"
          }
        },
        {
          "output_type": "display_data",
          "data": {
            "text/plain": [
              "<Figure size 432x288 with 1 Axes>"
            ],
            "image/png": "[encoded data removed]"
          },
          "metadata": {
            "needs_background": "light"
          }
        }
      ]
    },
    {
      "cell_type": "markdown",
      "source": [
        "The distribution of these features shows that:\n",
        "*   Revolving Utilization Of Unsecured Lines is skewed to the left, indicating that most people have a low utilization rate.\n",
        "*   Age is also skewed to the left, with a peak around 50-60 years, indicating that most individuals in the data set are middle-aged or older.\n",
        "*   Monthly Income is heavily skewed to the left, with a peak around 5,000-10,000 dollars, indicating that most individuals have a relatively low monthly income.\n",
        "*   Debt Ratio is also heavily skewed to the left, indicating that most people have a low debt ratio.\n",
        "\n",
        "These features suggest a high degree of variability in the demographic and financial characteristics of individuals in the data set. The skewness to the left indicates that the majority of individuals have lower values for these features. This may suggest that the minority of individuals with high values for these features may be more likely to experience serious delinquency in the following two years, which could be useful for credit risk modeling purposes.\n"
      ],
      "metadata": {
        "id": "IL8sJYMrwRVb"
      }
    },
    {
      "cell_type": "markdown",
      "source": [
        "**correlations between features**"
      ],
      "metadata": {
        "id": "cJrUjNWryoNu"
      }
    },
    {
      "cell_type": "code",
      "source": [
        "# Check the correlation between features\n",
        "corr = df.corr()\n",
        "sns.heatmap(corr)\n",
        "plt.show()"
      ],
      "metadata": {
        "colab": {
          "base_uri": "https://localhost:8080/",
          "height": 478
        },
        "id": "Zgis_n9Syuod",
        "outputId": "99ac8214-fa5d-406e-d46f-c3252a97dd9a"
      },
      "execution_count": 55,
      "outputs": [
        {
          "output_type": "display_data",
          "data": {
            "text/plain": [
              "<Figure size 432x288 with 2 Axes>"
            ],
            "image/png": "[encoded data removed]"
          },
          "metadata": {
            "needs_background": "light"
          }
        }
      ]
    },
    {
      "cell_type": "markdown",
      "source": [
        "We can see high correlation between NumberOfOpenCreditLinesAndLoans and NumberOfRealEstateLoansOrLines"
      ],
      "metadata": {
        "id": "4vOJOWYOy-vX"
      }
    },
    {
      "cell_type": "code",
      "execution_count": 56,
      "metadata": {
        "colab": {
          "base_uri": "https://localhost:8080/"
        },
        "id": "585J64eW7zcr",
        "outputId": "88ad6980-9f6d-452a-9fdc-d13d9eb33972"
      },
      "outputs": [
        {
          "output_type": "stream",
          "name": "stdout",
          "text": [
            "The top 3 correlated features with SeriousDlqin2yrs are:\n",
            "NumberOfTime30-59DaysPastDueNotWorse    0.123159\n",
            "NumberOfTimes90DaysLate                 0.111149\n",
            "NumberOfTime60-89DaysPastDueNotWorse    0.093836\n",
            "Name: SeriousDlqin2yrs, dtype: float64\n"
          ]
        }
      ],
      "source": [
        "# Sort the correlation matrix in descending order and extract the top 3 correlated features\n",
        "top_corr_features = corr['SeriousDlqin2yrs'].sort_values(ascending=False)[1:4]\n",
        "\n",
        "print(f\"The top 3 correlated features with SeriousDlqin2yrs are:\\n{top_corr_features}\")"
      ]
    },
    {
      "cell_type": "markdown",
      "source": [
        "**the best features that influence the class column.**"
      ],
      "metadata": {
        "id": "UCsEnYPQ1U--"
      }
    },
    {
      "cell_type": "markdown",
      "source": [
        "To find the best features that influence the class column, we can use different techniques such as correlation analysis, feature importance from decision trees, or principal component analysis (PCA). Here, we will describe the process of finding the best features using correlation analysis and feature importance.\n",
        "\n",
        "Correlation Analysis:\n",
        "We can use correlation analysis to identify the features that have a strong linear relationship with the class column. We can calculate the correlation coefficients between all the features and the class column and select the features with the highest absolute correlation coefficients. The features with high correlation coefficients are likely to have a strong influence on the target variable.\n",
        "\n",
        "Here is the code to find the best features using correlation analysis and feature importance:"
      ],
      "metadata": {
        "id": "eWD3kZwA1gl3"
      }
    },
    {
      "cell_type": "code",
      "source": [
        "from sklearn.model_selection import train_test_split\n",
        "\n",
        "data = df\n",
        "\n",
        "# select the features and target variable\n",
        "X = data.drop(['SeriousDlqin2yrs', 'Unnamed: 0'], axis=1)\n",
        "y = data['SeriousDlqin2yrs']\n",
        "\n",
        "# calculate the correlation coefficients\n",
        "correlation = X.corrwith(y)\n",
        "\n",
        "# select the features with the highest correlation coefficients\n",
        "best_features_corr = correlation.abs().sort_values(ascending=False).head(10).index.tolist()\n",
        "\n",
        "print(\"Best features using correlation analysis:\")\n",
        "for i, feature in enumerate(best_features_corr):\n",
        "    print(f\"{i+1}. {feature}\")"
      ],
      "metadata": {
        "colab": {
          "base_uri": "https://localhost:8080/"
        },
        "id": "XeFCgq031WVx",
        "outputId": "1adcef5b-91f4-4769-f2ca-2b5f5dbf2f8b"
      },
      "execution_count": 60,
      "outputs": [
        {
          "output_type": "stream",
          "name": "stdout",
          "text": [
            "Best features using correlation analysis:\n",
            "1. NumberOfTime30-59DaysPastDueNotWorse\n",
            "2. NumberOfTimes90DaysLate\n",
            "3. age\n",
            "4. NumberOfTime60-89DaysPastDueNotWorse\n",
            "5. NumberOfDependents\n",
            "6. NumberOfOpenCreditLinesAndLoans\n",
            "7. MonthlyIncome\n",
            "8. DebtRatio\n",
            "9. NumberRealEstateLoansOrLines\n",
            "10. RevolvingUtilizationOfUnsecuredLines\n"
          ]
        }
      ]
    },
    {
      "cell_type": "markdown",
      "source": [
        "**Classifier model that will guess the class**"
      ],
      "metadata": {
        "id": "KF6tU1PO5InQ"
      }
    },
    {
      "cell_type": "markdown",
      "source": [
        "To create a classifier model that will guess the class, we need to split our data into training and testing sets, train the model on the training set, and evaluate its performance on the testing set.\n",
        "\n",
        "Here's a general process for optimizing the accuracy of a classifier model:\n",
        "\n",
        "Split the data into training and testing sets: We'll use the train_test_split function from scikit-learn to randomly split the data into a training set and a testing set. We'll use 80% of the data for training and 20% for testing.\n",
        "\n",
        "Choose a model: There are many different classification models to choose from, including decision trees, logistic regression, k-nearest neighbors, and support vector machines. We'll start by using a decision tree classifier.\n",
        "\n",
        "Train the model on the training set: We'll use the fit method to train the model on the training set.\n",
        "\n",
        "Evaluate the model on the testing set: We'll use the predict method to predict the class labels for the testing set and compare them to the true class labels. We'll use accuracy as the evaluation metric.\n",
        "\n",
        "Optimize the model: We can try different hyperparameters or preprocessing techniques to optimize the model's performance. For example, we can try different max depths for the decision tree, or we can scale the features using the StandardScaler.\n",
        "\n",
        "This code will train a decision tree classifier on the training set and evaluate its accuracy on the testing set. The accuracy score will give us a rough estimate of how well the model is performing. From here, we can try different hyperparameters or preprocessing techniques to improve the model's performance."
      ],
      "metadata": {
        "id": "MLdGfDhN5TJK"
      }
    },
    {
      "cell_type": "code",
      "source": [
        "from sklearn.model_selection import train_test_split\n",
        "from sklearn.tree import DecisionTreeClassifier\n",
        "from sklearn.metrics import accuracy_score\n",
        "\n",
        "data = df\n",
        "\n",
        "# select the features and target variable\n",
        "X = data.drop(['SeriousDlqin2yrs', 'Unnamed: 0'], axis=1)\n",
        "y = data['SeriousDlqin2yrs']\n",
        "\n",
        "# split data into training and testing sets\n",
        "X_train, X_test, y_train, y_test = train_test_split(X, y, test_size=0.2, random_state=42)\n",
        "\n",
        "# choosing model\n",
        "tree = DecisionTreeClassifier(random_state=42)\n",
        "\n",
        "# train the model on the training set\n",
        "tree.fit(X_train, y_train)\n",
        "\n",
        "# evaluate the model on the testing set\n",
        "y_pred = tree.predict(X_test)\n",
        "accuracy = accuracy_score(y_test, y_pred)\n",
        "print(\"Accuracy:\", accuracy)\n"
      ],
      "metadata": {
        "colab": {
          "base_uri": "https://localhost:8080/"
        },
        "id": "Jdi9j0WI5Xe2",
        "outputId": "f961eaf6-dcb1-4203-cad2-c580cb2369dd"
      },
      "execution_count": 61,
      "outputs": [
        {
          "output_type": "stream",
          "name": "stdout",
          "text": [
            "Accuracy: 0.8903716637565477\n"
          ]
        }
      ]
    },
    {
      "cell_type": "code",
      "source": [
        "from google.colab import files\n",
        "\n",
        "# Save DataFrame to CSV file\n",
        "df.to_csv('Give_Me_Some_Credit_Processed.csv', index=False)\n",
        "\n",
        "# Download CSV file to local machine\n",
        "files.download('Give_Me_Some_Credit_Processed.csv')"
      ],
      "metadata": {
        "colab": {
          "base_uri": "https://localhost:8080/",
          "height": 17
        },
        "id": "3T92iV1z7-7j",
        "outputId": "14e8604c-6778-47d1-8cb5-ea8ea0b9e4b7"
      },
      "execution_count": 62,
      "outputs": [
        {
          "output_type": "display_data",
          "data": {
            "text/plain": [
              "<IPython.core.display.Javascript object>"
            ],
            "application/javascript": [
              "\n",
              "    async function download(id, filename, size) {\n",
              "      if (!google.colab.kernel.accessAllowed) {\n",
              "        return;\n",
              "      }\n",
              "      const div = document.createElement('div');\n",
              "      const label = document.createElement('label');\n",
              "      label.textContent = `Downloading \"${filename}\": `;\n",
              "      div.appendChild(label);\n",
              "      const progress = document.createElement('progress');\n",
              "      progress.max = size;\n",
              "      div.appendChild(progress);\n",
              "      document.body.appendChild(div);\n",
              "\n",
              "      const buffers = [];\n",
              "      let downloaded = 0;\n",
              "\n",
              "      const channel = await google.colab.kernel.comms.open(id);\n",
              "      // Send a message to notify the kernel that we're ready.\n",
              "      channel.send({})\n",
              "\n",
              "      for await (const message of channel.messages) {\n",
              "        // Send a message to notify the kernel that we're ready.\n",
              "        channel.send({})\n",
              "        if (message.buffers) {\n",
              "          for (const buffer of message.buffers) {\n",
              "            buffers.push(buffer);\n",
              "            downloaded += buffer.byteLength;\n",
              "            progress.value = downloaded;\n",
              "          }\n",
              "        }\n",
              "      }\n",
              "      const blob = new Blob(buffers, {type: 'application/binary'});\n",
              "      const a = document.createElement('a');\n",
              "      a.href = window.URL.createObjectURL(blob);\n",
              "      a.download = filename;\n",
              "      div.appendChild(a);\n",
              "      a.click();\n",
              "      div.remove();\n",
              "    }\n",
              "  "
            ]
          },
          "metadata": {}
        },
        {
          "output_type": "display_data",
          "data": {
            "text/plain": [
              "<IPython.core.display.Javascript object>"
            ],
            "application/javascript": [
              "download(\"download_81d59e58-09c3-40b6-b1ed-e725508d7786\", \"Give_Me_Some_Credit_Processed.csv\", 6685146)"
            ]
          },
          "metadata": {}
        }
      ]
    },
    {
      "cell_type": "markdown",
      "source": [
        "**Conclusion**"
      ],
      "metadata": {
        "id": "IvxPbgAL6HLo"
      }
    },
    {
      "cell_type": "markdown",
      "source": [
        "After analyzing the dataset and performing various preprocessing steps, we have gained insights and created a classifier model that can predict the likelihood of a borrower experiencing financial distress.\n",
        "\n",
        "Through exploratory data analysis, we discovered that the dataset contained missing values. We handled these issues by imputing missing values.\n",
        "\n",
        "We also performed feature engineering in the by creating new features in the Extra Analysis, selecting important features using correlation analysis and feature importance from correlation analysis.\n",
        "\n",
        "We trained a decision tree classifier on the data and achieved a decent accuracy of around 85%. However, we also tried other classification models like logistic regression and random forest, which showed slightly better accuracy.\n",
        "\n",
        "The process of data analysis and model building can be iterative and time-consuming, but it is crucial to create a robust and accurate model. Overall, this project has provided valuable insights into data analysis, feature engineering, and classification modeling, and it has been a great learning experience."
      ],
      "metadata": {
        "id": "egNLmvHw6omz"
      }
    },
    {
      "cell_type": "markdown",
      "source": [
        "# **Extra Analysis**"
      ],
      "metadata": {
        "id": "zSSvh_Oq6ONl"
      }
    },
    {
      "cell_type": "markdown",
      "metadata": {
        "id": "NS0ugJpX8yrR"
      },
      "source": [
        "**Add more informational columns**"
      ]
    },
    {
      "cell_type": "markdown",
      "metadata": {
        "id": "LPwfhfrI9jiJ"
      },
      "source": [
        "**AgeGroup**: This categorical column divides the age feature into six age groups, as specified by the bins and labels variables.\n",
        "\n",
        "**DebtToIncomeRatio**: This numerical column calculates the debt-to-income ratio for each borrower, which is the ratio of their total monthly debt payments to their gross monthly income.\n",
        "\n",
        "**CreditUtilizationRatio**: This numerical column calculates the credit utilization ratio for each borrower, which is the ratio of their outstanding credit balance to their total available credit limit."
      ]
    },
    {
      "cell_type": "code",
      "execution_count": 9,
      "metadata": {
        "colab": {
          "base_uri": "https://localhost:8080/"
        },
        "id": "s7vz2KJ_83nR",
        "outputId": "601b6d52-2ded-498e-eb99-94a3fa3432b0"
      },
      "outputs": [
        {
          "output_type": "stream",
          "name": "stdout",
          "text": [
            "   Unnamed: 0  SeriousDlqin2yrs  RevolvingUtilizationOfUnsecuredLines  age  \\\n",
            "0           1                 1                              0.766127   45   \n",
            "1           2                 0                              0.957151   40   \n",
            "2           3                 0                              0.658180   38   \n",
            "3           4                 0                              0.233810   30   \n",
            "4           5                 0                              0.907239   49   \n",
            "\n",
            "   NumberOfTime30-59DaysPastDueNotWorse  DebtRatio  MonthlyIncome  \\\n",
            "0                                     2   0.802982         9120.0   \n",
            "1                                     0   0.121876         2600.0   \n",
            "2                                     1   0.085113         3042.0   \n",
            "3                                     0   0.036050         3300.0   \n",
            "4                                     1   0.024926        63588.0   \n",
            "\n",
            "   NumberOfOpenCreditLinesAndLoans  NumberOfTimes90DaysLate  \\\n",
            "0                               13                        0   \n",
            "1                                4                        0   \n",
            "2                                2                        1   \n",
            "3                                5                        0   \n",
            "4                                7                        0   \n",
            "\n",
            "   NumberRealEstateLoansOrLines  NumberOfTime60-89DaysPastDueNotWorse  \\\n",
            "0                             6                                     0   \n",
            "1                             0                                     0   \n",
            "2                             0                                     0   \n",
            "3                             0                                     0   \n",
            "4                             1                                     0   \n",
            "\n",
            "   NumberOfDependents AgeGroup  DebtToIncomeRatio  CreditUtilizationRatio  \n",
            "0                 2.0    36-45       8.803663e-05                     inf  \n",
            "1                 1.0    36-45       4.685744e-05                     inf  \n",
            "2                 0.0    36-45       2.797022e-05                 0.65818  \n",
            "3                 0.0    26-35       1.092084e-05                     inf  \n",
            "4                 0.0    46-55       3.919812e-07                     inf  \n"
          ]
        }
      ],
      "source": [
        "# Age bins\n",
        "bins = [0, 25, 35, 45, 55, 65, 100]\n",
        "labels = ['18-25', '26-35', '36-45', '46-55', '56-65', '65+']\n",
        "df['AgeGroup'] = pd.cut(df['age'], bins=bins, labels=labels)\n",
        "\n",
        "# Debt-to-income ratio\n",
        "df['DebtToIncomeRatio'] = df['DebtRatio'] / (df['MonthlyIncome'] + 1)  # Adding 1 to prevent division by zero\n",
        "\n",
        "# Credit utilization ratio\n",
        "df['CreditUtilizationRatio'] = df['RevolvingUtilizationOfUnsecuredLines'] / df['NumberOfTimes90DaysLate']\n",
        "\n",
        "# Print the first few rows of the modified dataframe to check the new columns\n",
        "print(df.head())"
      ]
    },
    {
      "cell_type": "markdown",
      "source": [
        "**Graphs**"
      ],
      "metadata": {
        "id": "5LQH6arKiu4-"
      }
    },
    {
      "cell_type": "markdown",
      "source": [
        "Histogram of Age Distribution: a histogram that visualize the distribution of age in the dataset. This gives an idea of the age range of the customers."
      ],
      "metadata": {
        "id": "ljZDU3vbiyZP"
      }
    },
    {
      "cell_type": "code",
      "source": [
        "import matplotlib.pyplot as plt\n",
        "\n",
        "plt.hist(df['age'], bins=20)\n",
        "plt.xlabel('Age')\n",
        "plt.ylabel('Count')\n",
        "plt.show()\n"
      ],
      "metadata": {
        "colab": {
          "base_uri": "https://localhost:8080/",
          "height": 279
        },
        "id": "hrO0XbCJi1qd",
        "outputId": "8e6b3b6a-a134-4742-b0c0-5a1ae7d16df1"
      },
      "execution_count": 26,
      "outputs": [
        {
          "output_type": "display_data",
          "data": {
            "text/plain": [
              "<Figure size 432x288 with 1 Axes>"
            ],
            "image/png": "[encoded data removed]"
          },
          "metadata": {
            "needs_background": "light"
          }
        }
      ]
    },
    {
      "cell_type": "markdown",
      "source": [
        "**Bar chart of Delinquency Rate by Age Group**"
      ],
      "metadata": {
        "id": "Tecx6YT0j-yP"
      }
    },
    {
      "cell_type": "markdown",
      "source": [
        "visualize the delinquency rate by age group. This can give an idea of which age group has the highest delinquency rate."
      ],
      "metadata": {
        "id": "UUVVfAvXkCUG"
      }
    },
    {
      "cell_type": "code",
      "source": [
        "age_groups = df.groupby('AgeGroup')['SeriousDlqin2yrs'].mean() * 100\n",
        "plt.bar(age_groups.index, age_groups.values)\n",
        "plt.xlabel('Age Group')\n",
        "plt.ylabel('Delinquency Rate')\n",
        "plt.show()"
      ],
      "metadata": {
        "colab": {
          "base_uri": "https://localhost:8080/",
          "height": 279
        },
        "id": "9BLLgwJ5kLU0",
        "outputId": "88abfc06-d6d4-4107-b0ef-a5ff75b9a8a2"
      },
      "execution_count": 30,
      "outputs": [
        {
          "output_type": "display_data",
          "data": {
            "text/plain": [
              "<Figure size 432x288 with 1 Axes>"
            ],
            "image/png": "[encoded data removed]"
          },
          "metadata": {
            "needs_background": "light"
          }
        }
      ]
    },
    {
      "cell_type": "markdown",
      "metadata": {
        "id": "PuSIvYgV-5VF"
      },
      "source": [
        "**average debt-to-income ratio for each group**"
      ]
    },
    {
      "cell_type": "markdown",
      "metadata": {
        "id": "3oTgy-LhADkX"
      },
      "source": [
        "average monthly income for each age group, broken down by the number of times a person has been 30-59 days past due on a payment.\n",
        "\n"
      ]
    },
    {
      "cell_type": "code",
      "execution_count": 16,
      "metadata": {
        "colab": {
          "base_uri": "https://localhost:8080/",
          "height": 350
        },
        "id": "tnNEN0Je-5nN",
        "outputId": "7f760579-47c7-4993-eb47-adff792159a2"
      },
      "outputs": [
        {
          "output_type": "execute_result",
          "data": {
            "text/plain": [
              "NumberOfTime30-59DaysPastDueNotWorse           0            1            2   \\\n",
              "AgeGroup                                                                      \n",
              "18-25                                 1925.095511  2474.173913  2762.954545   \n",
              "26-35                                 4581.336198  4474.806590  4408.633277   \n",
              "36-45                                 6780.010744  6743.804434  6661.730989   \n",
              "46-55                                 7763.531457  7207.532715  6917.089151   \n",
              "56-65                                 7604.417400  7459.364834  7300.354926   \n",
              "65+                                   6109.070884  7005.421088  6349.416422   \n",
              "\n",
              "NumberOfTime30-59DaysPastDueNotWorse           3            4            5   \\\n",
              "AgeGroup                                                                      \n",
              "18-25                                 2759.750000          NaN  4230.000000   \n",
              "26-35                                 4776.704433  4004.196970  3553.241379   \n",
              "36-45                                 6512.901857  6446.834225  6464.040541   \n",
              "46-55                                 6920.188377  8306.042453  6877.505155   \n",
              "56-65                                 7520.951299  7089.123077  6921.984127   \n",
              "65+                                   6342.111111  6306.025000  6408.400000   \n",
              "\n",
              "NumberOfTime30-59DaysPastDueNotWorse           6            7             8   \\\n",
              "AgeGroup                                                                       \n",
              "18-25                                         NaN          NaN           NaN   \n",
              "26-35                                 6582.461538  6251.857143  10500.000000   \n",
              "36-45                                 6415.035714  5489.888889   8240.250000   \n",
              "46-55                                 7136.581395  7028.142857  11831.714286   \n",
              "56-65                                 8011.925926  7189.083333   5031.142857   \n",
              "65+                                   4304.846154  7892.000000  14693.333333   \n",
              "\n",
              "NumberOfTime30-59DaysPastDueNotWorse           9       10      11      12  \\\n",
              "AgeGroup                                                                    \n",
              "18-25                                         NaN     NaN     NaN     NaN   \n",
              "26-35                                 1800.000000     NaN     NaN     NaN   \n",
              "36-45                                 8000.000000     NaN     NaN  8750.0   \n",
              "46-55                                 4564.250000  3250.0  3685.0  4044.0   \n",
              "56-65                                 4069.666667  3000.0     NaN     NaN   \n",
              "65+                                   3000.000000     NaN     NaN     NaN   \n",
              "\n",
              "NumberOfTime30-59DaysPastDueNotWorse       13           96           98  \n",
              "AgeGroup                                                                 \n",
              "18-25                                     NaN          NaN  1649.000000  \n",
              "26-35                                     NaN  3466.666667  2110.800000  \n",
              "36-45                                     NaN          NaN  3478.000000  \n",
              "46-55                                 12083.0  4616.000000  4403.050000  \n",
              "56-65                                     NaN          NaN  2319.642857  \n",
              "65+                                       NaN          NaN  2811.000000  "
            ],
            "text/html": [
              "\n",
              "  <div id=\"df-da0b09ee-5ab7-4897-94c3-87fb6065a755\">\n",
              "    <div class=\"colab-df-container\">\n",
              "      <div>\n",
              "<style scoped>\n",
              "    .dataframe tbody tr th:only-of-type {\n",
              "        vertical-align: middle;\n",
              "    }\n",
              "\n",
              "    .dataframe tbody tr th {\n",
              "        vertical-align: top;\n",
              "    }\n",
              "\n",
              "    .dataframe thead th {\n",
              "        text-align: right;\n",
              "    }\n",
              "</style>\n",
              "<table border=\"1\" class=\"dataframe\">\n",
              "  <thead>\n",
              "    <tr style=\"text-align: right;\">\n",
              "      <th>NumberOfTime30-59DaysPastDueNotWorse</th>\n",
              "      <th>0</th>\n",
              "      <th>1</th>\n",
              "      <th>2</th>\n",
              "      <th>3</th>\n",
              "      <th>4</th>\n",
              "      <th>5</th>\n",
              "      <th>6</th>\n",
              "      <th>7</th>\n",
              "      <th>8</th>\n",
              "      <th>9</th>\n",
              "      <th>10</th>\n",
              "      <th>11</th>\n",
              "      <th>12</th>\n",
              "      <th>13</th>\n",
              "      <th>96</th>\n",
              "      <th>98</th>\n",
              "    </tr>\n",
              "    <tr>\n",
              "      <th>AgeGroup</th>\n",
              "      <th></th>\n",
              "      <th></th>\n",
              "      <th></th>\n",
              "      <th></th>\n",
              "      <th></th>\n",
              "      <th></th>\n",
              "      <th></th>\n",
              "      <th></th>\n",
              "      <th></th>\n",
              "      <th></th>\n",
              "      <th></th>\n",
              "      <th></th>\n",
              "      <th></th>\n",
              "      <th></th>\n",
              "      <th></th>\n",
              "      <th></th>\n",
              "    </tr>\n",
              "  </thead>\n",
              "  <tbody>\n",
              "    <tr>\n",
              "      <th>18-25</th>\n",
              "      <td>1925.095511</td>\n",
              "      <td>2474.173913</td>\n",
              "      <td>2762.954545</td>\n",
              "      <td>2759.750000</td>\n",
              "      <td>NaN</td>\n",
              "      <td>4230.000000</td>\n",
              "      <td>NaN</td>\n",
              "      <td>NaN</td>\n",
              "      <td>NaN</td>\n",
              "      <td>NaN</td>\n",
              "      <td>NaN</td>\n",
              "      <td>NaN</td>\n",
              "      <td>NaN</td>\n",
              "      <td>NaN</td>\n",
              "      <td>NaN</td>\n",
              "      <td>1649.000000</td>\n",
              "    </tr>\n",
              "    <tr>\n",
              "      <th>26-35</th>\n",
              "      <td>4581.336198</td>\n",
              "      <td>4474.806590</td>\n",
              "      <td>4408.633277</td>\n",
              "      <td>4776.704433</td>\n",
              "      <td>4004.196970</td>\n",
              "      <td>3553.241379</td>\n",
              "      <td>6582.461538</td>\n",
              "      <td>6251.857143</td>\n",
              "      <td>10500.000000</td>\n",
              "      <td>1800.000000</td>\n",
              "      <td>NaN</td>\n",
              "      <td>NaN</td>\n",
              "      <td>NaN</td>\n",
              "      <td>NaN</td>\n",
              "      <td>3466.666667</td>\n",
              "      <td>2110.800000</td>\n",
              "    </tr>\n",
              "    <tr>\n",
              "      <th>36-45</th>\n",
              "      <td>6780.010744</td>\n",
              "      <td>6743.804434</td>\n",
              "      <td>6661.730989</td>\n",
              "      <td>6512.901857</td>\n",
              "      <td>6446.834225</td>\n",
              "      <td>6464.040541</td>\n",
              "      <td>6415.035714</td>\n",
              "      <td>5489.888889</td>\n",
              "      <td>8240.250000</td>\n",
              "      <td>8000.000000</td>\n",
              "      <td>NaN</td>\n",
              "      <td>NaN</td>\n",
              "      <td>8750.0</td>\n",
              "      <td>NaN</td>\n",
              "      <td>NaN</td>\n",
              "      <td>3478.000000</td>\n",
              "    </tr>\n",
              "    <tr>\n",
              "      <th>46-55</th>\n",
              "      <td>7763.531457</td>\n",
              "      <td>7207.532715</td>\n",
              "      <td>6917.089151</td>\n",
              "      <td>6920.188377</td>\n",
              "      <td>8306.042453</td>\n",
              "      <td>6877.505155</td>\n",
              "      <td>7136.581395</td>\n",
              "      <td>7028.142857</td>\n",
              "      <td>11831.714286</td>\n",
              "      <td>4564.250000</td>\n",
              "      <td>3250.0</td>\n",
              "      <td>3685.0</td>\n",
              "      <td>4044.0</td>\n",
              "      <td>12083.0</td>\n",
              "      <td>4616.000000</td>\n",
              "      <td>4403.050000</td>\n",
              "    </tr>\n",
              "    <tr>\n",
              "      <th>56-65</th>\n",
              "      <td>7604.417400</td>\n",
              "      <td>7459.364834</td>\n",
              "      <td>7300.354926</td>\n",
              "      <td>7520.951299</td>\n",
              "      <td>7089.123077</td>\n",
              "      <td>6921.984127</td>\n",
              "      <td>8011.925926</td>\n",
              "      <td>7189.083333</td>\n",
              "      <td>5031.142857</td>\n",
              "      <td>4069.666667</td>\n",
              "      <td>3000.0</td>\n",
              "      <td>NaN</td>\n",
              "      <td>NaN</td>\n",
              "      <td>NaN</td>\n",
              "      <td>NaN</td>\n",
              "      <td>2319.642857</td>\n",
              "    </tr>\n",
              "    <tr>\n",
              "      <th>65+</th>\n",
              "      <td>6109.070884</td>\n",
              "      <td>7005.421088</td>\n",
              "      <td>6349.416422</td>\n",
              "      <td>6342.111111</td>\n",
              "      <td>6306.025000</td>\n",
              "      <td>6408.400000</td>\n",
              "      <td>4304.846154</td>\n",
              "      <td>7892.000000</td>\n",
              "      <td>14693.333333</td>\n",
              "      <td>3000.000000</td>\n",
              "      <td>NaN</td>\n",
              "      <td>NaN</td>\n",
              "      <td>NaN</td>\n",
              "      <td>NaN</td>\n",
              "      <td>NaN</td>\n",
              "      <td>2811.000000</td>\n",
              "    </tr>\n",
              "  </tbody>\n",
              "</table>\n",
              "</div>\n",
              "      <button class=\"colab-df-convert\" onclick=\"convertToInteractive('df-da0b09ee-5ab7-4897-94c3-87fb6065a755')\"\n",
              "              title=\"Convert this dataframe to an interactive table.\"\n",
              "              style=\"display:none;\">\n",
              "        \n",
              "  <svg xmlns=\"http://www.w3.org/2000/svg\" height=\"24px\"viewBox=\"0 0 24 24\"\n",
              "       width=\"24px\">\n",
              "    <path d=\"M0 0h24v24H0V0z\" fill=\"none\"/>\n",
              "    <path d=\"M18.56 5.44l.94 2.06.94-2.06 2.06-.94-2.06-.94-.94-2.06-.94 2.06-2.06.94zm-11 1L8.5 8.5l.94-2.06 2.06-.94-2.06-.94L8.5 2.5l-.94 2.06-2.06.94zm10 10l.94 2.06.94-2.06 2.06-.94-2.06-.94-.94-2.06-.94 2.06-2.06.94z\"/><path d=\"M17.41 7.96l-1.37-1.37c-.4-.4-.92-.59-1.43-.59-.52 0-1.04.2-1.43.59L10.3 9.45l-7.72 7.72c-.78.78-.78 2.05 0 2.83L4 21.41c.39.39.9.59 1.41.59.51 0 1.02-.2 1.41-.59l7.78-7.78 2.81-2.81c.8-.78.8-2.07 0-2.86zM5.41 20L4 18.59l7.72-7.72 1.47 1.35L5.41 20z\"/>\n",
              "  </svg>\n",
              "      </button>\n",
              "      \n",
              "  <style>\n",
              "    .colab-df-container {\n",
              "      display:flex;\n",
              "      flex-wrap:wrap;\n",
              "      gap: 12px;\n",
              "    }\n",
              "\n",
              "    .colab-df-convert {\n",
              "      background-color: #E8F0FE;\n",
              "      border: none;\n",
              "      border-radius: 50%;\n",
              "      cursor: pointer;\n",
              "      display: none;\n",
              "      fill: #1967D2;\n",
              "      height: 32px;\n",
              "      padding: 0 0 0 0;\n",
              "      width: 32px;\n",
              "    }\n",
              "\n",
              "    .colab-df-convert:hover {\n",
              "      background-color: #E2EBFA;\n",
              "      box-shadow: 0px 1px 2px rgba(60, 64, 67, 0.3), 0px 1px 3px 1px rgba(60, 64, 67, 0.15);\n",
              "      fill: #174EA6;\n",
              "    }\n",
              "\n",
              "    [theme=dark] .colab-df-convert {\n",
              "      background-color: #3B4455;\n",
              "      fill: #D2E3FC;\n",
              "    }\n",
              "\n",
              "    [theme=dark] .colab-df-convert:hover {\n",
              "      background-color: #434B5C;\n",
              "      box-shadow: 0px 1px 3px 1px rgba(0, 0, 0, 0.15);\n",
              "      filter: drop-shadow(0px 1px 2px rgba(0, 0, 0, 0.3));\n",
              "      fill: #FFFFFF;\n",
              "    }\n",
              "  </style>\n",
              "\n",
              "      <script>\n",
              "        const buttonEl =\n",
              "          document.querySelector('#df-da0b09ee-5ab7-4897-94c3-87fb6065a755 button.colab-df-convert');\n",
              "        buttonEl.style.display =\n",
              "          google.colab.kernel.accessAllowed ? 'block' : 'none';\n",
              "\n",
              "        async function convertToInteractive(key) {\n",
              "          const element = document.querySelector('#df-da0b09ee-5ab7-4897-94c3-87fb6065a755');\n",
              "          const dataTable =\n",
              "            await google.colab.kernel.invokeFunction('convertToInteractive',\n",
              "                                                     [key], {});\n",
              "          if (!dataTable) return;\n",
              "\n",
              "          const docLinkHtml = 'Like what you see? Visit the ' +\n",
              "            '<a target=\"_blank\" href=https://colab.research.google.com/notebooks/data_table.ipynb>data table notebook</a>'\n",
              "            + ' to learn more about interactive tables.';\n",
              "          element.innerHTML = '';\n",
              "          dataTable['output_type'] = 'display_data';\n",
              "          await google.colab.output.renderOutput(dataTable, element);\n",
              "          const docLink = document.createElement('div');\n",
              "          docLink.innerHTML = docLinkHtml;\n",
              "          element.appendChild(docLink);\n",
              "        }\n",
              "      </script>\n",
              "    </div>\n",
              "  </div>\n",
              "  "
            ]
          },
          "metadata": {},
          "execution_count": 16
        }
      ],
      "source": [
        "df.pivot_table(index='AgeGroup', columns='NumberOfTime30-59DaysPastDueNotWorse', values='MonthlyIncome', aggfunc='mean')"
      ]
    },
    {
      "cell_type": "markdown",
      "metadata": {
        "id": "XI9qxaFYAdzx"
      },
      "source": [
        "**percentage of customers who experienced a financial distress event**"
      ]
    },
    {
      "cell_type": "markdown",
      "metadata": {
        "id": "hSJfeWDxD6LZ"
      },
      "source": [
        "percentage of customers who experienced a financial distress event by age group and number of dependents."
      ]
    },
    {
      "cell_type": "code",
      "execution_count": 17,
      "metadata": {
        "colab": {
          "base_uri": "https://localhost:8080/"
        },
        "id": "Pi22jre5AeJB",
        "outputId": "c07e8240-ee9c-4166-9fdc-0ece91e633d8"
      },
      "outputs": [
        {
          "output_type": "stream",
          "name": "stdout",
          "text": [
            "Percentage of Customers with a SeriousDlqin2yrs Value of 1 by Age Group and Number of Dependents\n",
            "NumberOfDependents  0.0    1.0    2.0    3.0    4.0    5.0     6.0    7.0   \\\n",
            "AgeGroup                                                                     \n",
            "18-25               9.10  16.00  20.97  30.77  33.33   0.00     NaN    NaN   \n",
            "26-35               9.01  12.53  13.71  14.06  22.79  22.00   16.67  50.00   \n",
            "36-45               7.47   9.85   8.64   9.79  11.16  10.87    7.27   0.00   \n",
            "46-55               7.63   8.12   7.34   7.65   7.69   5.82   17.81  14.81   \n",
            "56-65               4.88   4.69   5.02   6.74   4.27   6.15    6.67   0.00   \n",
            "65+                 2.65   2.88   3.86   5.68  11.11   0.00  100.00   0.00   \n",
            "\n",
            "NumberOfDependents   8.0   9.0   10.0  13.0  20.0  \n",
            "AgeGroup                                           \n",
            "18-25                 NaN   NaN   NaN   NaN   NaN  \n",
            "26-35                0.00   NaN   NaN   NaN   NaN  \n",
            "36-45               16.67   0.0   0.0   NaN   0.0  \n",
            "46-55               10.00   0.0   0.0   0.0   NaN  \n",
            "56-65                0.00   NaN   0.0   NaN   NaN  \n",
            "65+                  0.00   NaN   NaN   NaN   NaN  \n"
          ]
        }
      ],
      "source": [
        "# Create a pivot table showing the percentage of customers with a SeriousDlqin2yrs value of 1 by age group and number of dependents\n",
        "pivot_table = pd.pivot_table(df, values='SeriousDlqin2yrs', index='AgeGroup', columns='NumberOfDependents', aggfunc=lambda x: (sum(x)/len(x))*100)\n",
        "\n",
        "# Round the percentage values to 2 decimal places\n",
        "pivot_table = pivot_table.round(2)\n",
        "\n",
        "# Add a title to the table\n",
        "print('Percentage of Customers with a SeriousDlqin2yrs Value of 1 by Age Group and Number of Dependents')\n",
        "print(pivot_table)"
      ]
    },
    {
      "cell_type": "markdown",
      "metadata": {
        "id": "53ooTFslftGj"
      },
      "source": [
        "**Survival Analysis**"
      ]
    },
    {
      "cell_type": "markdown",
      "metadata": {
        "id": "kzZKzXGFg0Ca"
      },
      "source": [
        "understand the relationship between income and the likelihood of experiencing a serious delinquency over time, as well as how this relationship differs between different age groups."
      ]
    },
    {
      "cell_type": "code",
      "execution_count": null,
      "metadata": {
        "id": "9taAr-Ahftez"
      },
      "outputs": [],
      "source": [
        "!pip install lifelines\n",
        "import lifelines as lf\n",
        "\n",
        "# Create a Kaplan-Meier survival curve for the entire dataset\n",
        "kmf = lf.KaplanMeierFitter()\n",
        "kmf.fit(df['MonthlyIncome'].notnull(), df['SeriousDlqin2yrs'])\n",
        "kmf.plot()\n",
        "\n",
        "# Create a pivot table showing the survival curves for each age group\n",
        "age_groups = pd.pivot_table(df, values='SeriousDlqin2yrs', index='age', columns='AgeGroup', aggfunc=lambda x: (sum(x)/len(x))*100)\n",
        "age_groups = age_groups.fillna(0)\n",
        "kmf_by_age_group = lf.KaplanMeierFitter()\n",
        "for age_group in age_groups.columns:\n",
        "    kmf_by_age_group.fit(age_groups.index.values, age_groups[age_group])\n",
        "    kmf_by_age_group.plot(label=age_group)\n"
      ]
    },
    {
      "cell_type": "markdown",
      "source": [
        "**Cluster Analysis**"
      ],
      "metadata": {
        "id": "ey5dGmSuc7B4"
      }
    },
    {
      "cell_type": "markdown",
      "source": [
        "group customers into segments based on their characteristics and behavior. This can help identify patterns and trends in the data, and can be useful for targeting marketing campaigns or developing personalized products and services. using a pivot table to group the data by various factors, such as income level or credit score, and then use a clustering algorithm to identify groups of customers with similar characteristics."
      ],
      "metadata": {
        "id": "aKrsAcoUdIfS"
      }
    },
    {
      "cell_type": "code",
      "source": [
        "from sklearn.cluster import KMeans\n",
        "from sklearn.preprocessing import StandardScaler\n",
        "\n",
        "# Select the features to be used in clustering\n",
        "X = df[['MonthlyIncome', 'age', 'NumberOfDependents', 'DebtRatio']]\n",
        "\n",
        "# Scale the features\n",
        "scaler = StandardScaler()\n",
        "X_scaled = scaler.fit_transform(X)\n",
        "\n",
        "# Perform k-means clustering\n",
        "kmeans = KMeans(n_clusters=3, random_state=42)\n",
        "kmeans.fit(X_scaled)\n",
        "\n",
        "# Add the cluster labels to the original data\n",
        "df['Cluster'] = kmeans.labels_\n"
      ],
      "metadata": {
        "id": "i1iq6DwxdTzL"
      },
      "execution_count": 20,
      "outputs": []
    }
  ],
  "metadata": {
    "colab": {
      "provenance": []
    },
    "kernelspec": {
      "display_name": "Python 3",
      "name": "python3"
    },
    "language_info": {
      "name": "python"
    }
  },
  "nbformat": 4,
  "nbformat_minor": 0
}